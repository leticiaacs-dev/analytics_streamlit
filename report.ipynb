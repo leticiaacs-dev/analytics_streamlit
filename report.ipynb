{
 "cells": [
  {
   "cell_type": "code",
   "execution_count": null,
   "metadata": {},
   "outputs": [],
   "source": [
    "# # Criar o ambiente virtual\n",
    "# python -m venv venv\n",
    "\n",
    "# # Ativar (Windows)\n",
    "# # venv\\Scripts\\activate"
   ]
  },
  {
   "cell_type": "code",
   "execution_count": null,
   "metadata": {},
   "outputs": [],
   "source": [
    "import pandas as pd\n",
    "import numpy as np"
   ]
  },
  {
   "cell_type": "code",
   "execution_count": null,
   "metadata": {},
   "outputs": [],
   "source": [
    "# --------------------------------------------* Roteiro de entregas Andréa *------------------------------------------ #\n",
    "\n",
    "# Source path\n",
    "source = \"../../Source/Roteiro Entregas.xlsx\"\n",
    "\n",
    "df = pd.read_excel(source, sheet_name=\"Resumo Entregas\", engine=\"openpyxl\", header=None)\n",
    "\n",
    "df.columns = df.iloc[1]\n",
    "\n",
    "df = df[2:].reset_index(drop=True)\n",
    "\n",
    "# Value to end the df 'ENTREGUE MARINA'\n",
    "coluna_filtro = df.columns[1]\n",
    "idx_fim = df[df[coluna_filtro] == \"ENTREGUE MARINA\"].index.min()\n",
    "\n",
    "if pd.notna(idx_fim):  \n",
    "    df = df.loc[:idx_fim - 1].reset_index(drop=True)\n",
    "\n",
    "df.head()\n"
   ]
  },
  {
   "cell_type": "code",
   "execution_count": null,
   "metadata": {},
   "outputs": [],
   "source": [
    "# --------------------------------------------* Roteiro de entregas Marina *------------------------------------------ #\n",
    "\n",
    "# Source path\n",
    "source = \"../../Source/Roteiro Entregas.xlsx\"\n",
    "\n",
    "df = pd.read_excel(source, sheet_name=\"Resumo Entregas\", engine=\"openpyxl\", header=None)\n",
    "\n",
    "# Find value 'ENTREGUE MARINA'\n",
    "coluna_filtro = df.columns[1]\n",
    "idx_inicio = df[df[coluna_filtro] == \"ENTREGUE MARINA\"].index.min()\n",
    "\n",
    "# If 'ENTREGUE MARINA' is found, skip the next line and set the following one as the header\n",
    "if pd.notna(idx_inicio):\n",
    "    idx_novo_cabecalho = idx_inicio + 2\n",
    "    df.columns = df.iloc[idx_novo_cabecalho]\n",
    "    df = df[idx_novo_cabecalho + 1:].reset_index(drop=True)\n",
    "\n",
    "df.head()"
   ]
  }
 ],
 "metadata": {
  "language_info": {
   "name": "python"
  }
 },
 "nbformat": 4,
 "nbformat_minor": 2
}
