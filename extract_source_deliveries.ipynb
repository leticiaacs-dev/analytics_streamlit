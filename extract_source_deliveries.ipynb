{
 "cells": [
  {
   "cell_type": "code",
   "execution_count": null,
   "metadata": {},
   "outputs": [],
   "source": [
    "# Criar o ambiente virtual\n",
    "# python -m venv venv\n",
    "\n",
    "# Ativar (Windows)\n",
    "# venv\\Scripts\\activate"
   ]
  },
  {
   "cell_type": "code",
   "execution_count": 7,
   "metadata": {},
   "outputs": [],
   "source": [
    "import pandas as pd\n",
    "import numpy as np\n",
    "import os"
   ]
  },
  {
   "cell_type": "markdown",
   "metadata": {},
   "source": [
    "### ---------------------------- %% Deliveries Andréa %% ----------------------------"
   ]
  },
  {
   "cell_type": "code",
   "execution_count": 8,
   "metadata": {},
   "outputs": [],
   "source": [
    "# --------------------------------------------* Roteiro de entregas Andréa *------------------------------------------ #\n",
    "\n",
    "# Source path\n",
    "source = \"../Source/Roteiro Entregas.xlsx\"\n",
    "\n",
    "# Carregar a planilha\n",
    "df = pd.read_excel(source, sheet_name=\"Resumo Entregas\", engine=\"openpyxl\", header=None)\n",
    "\n",
    "# Ajustar os nomes das colunas\n",
    "df.columns = df.iloc[1]\n",
    "df = df[2:].reset_index(drop=True)\n",
    "\n",
    "# Filtrar até a linha 'ENTREGUE MARINA'\n",
    "coluna_filtro = df.columns[1]\n",
    "idx_fim = df[df[coluna_filtro] == \"ENTREGUE MARINA\"].index.min()\n",
    "\n",
    "if pd.notna(idx_fim):  \n",
    "    df = df.loc[:idx_fim - 1].reset_index(drop=True)\n",
    "\n",
    "# Converter os tipos de dados\n",
    "df = df.astype({\n",
    "    \"Ano\": \"Int64\",\n",
    "    \"Mês\": \"string\",\n",
    "    \"N de viagens\": \"Int64\",\n",
    "    \"Media Kms\": \"float\",\n",
    "    \"TOTAL KM\": \"float\",\n",
    "    \"Preço combustivel\": \"float\",\n",
    "    \"L/KM\": \"float\",\n",
    "    \"Total combustivel\": \"float\",\n",
    "    \"custo medio combustivel\": \"float\",\n",
    "    \"Desgaste carro\": \"float\",\n",
    "    \"Custo médio Total\": \"float\",\n",
    "    \"Valor total\": \"float\",\n",
    "    \"Pago\": \"float\",\n",
    "    \"Diferença\": \"float\",\n",
    "    \"carro L\": \"float\",\n",
    "    \"Km\": \"float\"\n",
    "}, errors=\"ignore\")  # Ignora erros caso alguma coluna tenha valores inesperados\n",
    "\n",
    "# Criar pasta de saída\n",
    "output_folder = 'extract_csv'\n",
    "os.makedirs(output_folder, exist_ok=True)\n",
    "\n",
    "# Salvar o CSV\n",
    "df.to_csv(f'{output_folder}/delivery_andrea.csv', index=False)\n"
   ]
  },
  {
   "cell_type": "markdown",
   "metadata": {},
   "source": [
    "### ---------------------------- %% Deliveries Marina %% ----------------------------"
   ]
  },
  {
   "cell_type": "code",
   "execution_count": 11,
   "metadata": {},
   "outputs": [],
   "source": [
    "# --------------------------------------------* Roteiro de entregas Marina *------------------------------------------ #\n",
    "\n",
    "# Source path\n",
    "source = \"../Source/Roteiro Entregas.xlsx\"\n",
    "\n",
    "df = pd.read_excel(source, sheet_name=\"Resumo Entregas\", engine=\"openpyxl\", header=None)\n",
    "\n",
    "# Find value 'ENTREGUE MARINA'\n",
    "coluna_filtro = df.columns[1]\n",
    "idx_inicio = df[df[coluna_filtro] == \"ENTREGUE MARINA\"].index.min()\n",
    "\n",
    "# If 'ENTREGUE MARINA' is found, skip the next line and set the following one as the header\n",
    "if pd.notna(idx_inicio):\n",
    "    idx_novo_cabecalho = idx_inicio + 2\n",
    "    df.columns = df.iloc[idx_novo_cabecalho]\n",
    "    df = df[idx_novo_cabecalho + 1:].reset_index(drop=True)\n",
    "\n",
    "# Converter os tipos de dados\n",
    "df = df.astype({\n",
    "    \"Ano\": \"Int64\",\n",
    "    \"Mês\": \"string\",\n",
    "    \"N de viagens\": \"Int64\",\n",
    "    \"Media Kms\": \"float\",\n",
    "    \"TOTAL KM\": \"float\",\n",
    "    \"Preço combustivel\": \"float\",\n",
    "    \"L/KM\": \"float\",\n",
    "    \"Total\": \"float\",\n",
    "    \"custo medio combustivel\": \"float\",\n",
    "    \"Desgaste carro\": \"float\",\n",
    "    \"Custo médio Total\": \"float\",\n",
    "    \"Valor total\": \"float\",\n",
    "    \"Pago\": \"float\",\n",
    "    \"Diferença\": \"float\",\n",
    "    \"carro L\": \"float\",\n",
    "    \"Km\": \"float\"\n",
    "}, errors=\"ignore\")  # Ignora erros caso alguma coluna tenha valores inesperados\n",
    "\n",
    "output_folder = 'extract_csv'\n",
    "os.makedirs(output_folder, exist_ok=True)\n",
    "\n",
    "# Save the CSV to the 'extract_csv' folder\n",
    "df.to_csv(f'{output_folder}/delivery_marina.csv', index=False)"
   ]
  }
 ],
 "metadata": {
  "kernelspec": {
   "display_name": "base",
   "language": "python",
   "name": "python3"
  },
  "language_info": {
   "codemirror_mode": {
    "name": "ipython",
    "version": 3
   },
   "file_extension": ".py",
   "mimetype": "text/x-python",
   "name": "python",
   "nbconvert_exporter": "python",
   "pygments_lexer": "ipython3",
   "version": "3.9.13"
  }
 },
 "nbformat": 4,
 "nbformat_minor": 2
}
